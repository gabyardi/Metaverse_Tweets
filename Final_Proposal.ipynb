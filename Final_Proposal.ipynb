{
 "cells": [
  {
   "cell_type": "markdown",
   "id": "2ed85672-2b13-4bd7-9e46-3732ea6c7e92",
   "metadata": {},
   "source": [
    "# Metaverse Twitter Analysis"
   ]
  },
  {
   "cell_type": "markdown",
   "id": "a5094740-369b-46c2-af87-9dfe2b5bb3f3",
   "metadata": {},
   "source": [
    "## Motivation"
   ]
  },
  {
   "cell_type": "markdown",
   "id": "9c6941ac-610c-4bd2-b1d4-a3ae659ab185",
   "metadata": {},
   "source": [
    "As students growing up in a digital age we are intrigued to see what the Metaverse amounts to. The hype around the Metaverse feels oddly reminiscent of the creation of “The Internet”  in the ’70s and carries the same mystic, with little to nothing being known about Meta’s approach (Ravenscraft). In our analysis, we hope to investigate customers’ perception of the Metaverse and their expectations through social media platforms such as Twitter. We feel our analysis will give us a better idea of the trajectory of the Metaverse and consumers’ anticipations for the technology."
   ]
  },
  {
   "cell_type": "markdown",
   "id": "842778db-6b65-4dce-a5a7-37cc8fc91fce",
   "metadata": {},
   "source": [
    "Ravenscraft, Eric. “What Is the Metaverse, Exactly?” Wired, 25 Nov. 2021, www.wired.com/story/what-is-the-metaverse."
   ]
  },
  {
   "cell_type": "markdown",
   "id": "112319b9-1f6d-41ac-b916-7373aea1057f",
   "metadata": {},
   "source": [
    "## Related Work"
   ]
  },
  {
   "cell_type": "markdown",
   "id": "29646ce3-05de-4bf2-9581-852f86014bfa",
   "metadata": {},
   "source": [
    "The concept of the Metaverse has been all over social media and has only been gaining traction. The Metaverse has been controversial in a number of online communities in terms of what it contributes to its users, the tech community, and more broadly, implications on society. No particular articles influenced us about this topic, however, the Wired article mentioned above did help to provide an interesting analogy as to why people, us included, are intrigued. The Metaverse does carry the same buzz as the start of the Internet which means people’s opinions on its success can be polarizing (Ravenscraft). This is an aspect of the data our group was hoping to capture. The dataset we are using for our project is public and has been used for other analyses such as the article by Ağrali Özgür, a researcher at Muğla Sıtkı Koçman University in the department of Artificial Intelligence. In the article “Tweet Classification and Sentiment Analysis on Metaverse Related Messages”, Özgür uses a sentiment analysis approach to analyzing the data and finds the increasing quantity of tweets about the Metaverse days after Mark Zuckerberg’s highly publicized company name change to “Meta”. He also notes the increase of neutral to negative tweets after Mark’s speech. In a similar light, we hope to provide insight into the consumers’ perceptions of the Metaverse and its potential success. \n",
    "\n",
    "Ağrali, Özgür & Aydın, Ömer. (2021). Tweet Classification and Sentiment Analysis on Metaverse Related Messages. Journal of Metaverse, 1. 25-30."
   ]
  },
  {
   "cell_type": "markdown",
   "id": "2d58dcc9-d17c-4aa7-83a0-fae802a724b1",
   "metadata": {},
   "source": [
    "## Data"
   ]
  },
  {
   "cell_type": "markdown",
   "id": "78980758-46bd-431f-a976-059805abe818",
   "metadata": {},
   "source": [
    "The data was collected using tweets are collected using Twitter API and a Python script. A query for this high-frequency hashtag (#Metaverse) is run on a daily basis for a certain time period, to collect a larger number of tweets samples. The dataset certainly demands data cleaning. For example, to use the user_location, we note that some of the locations are cities, while others are countries. We will need to standardize the data to a consistent specificity. Additionally, not all of the tweets are in English. Non-English tweets may either have to be removed or translated prior to data processing and analysis. The dataset does not need to be restructured, melted, or pivoted. The dataset is in one table with ten columns and just under 50,000 rows (minor variations due to null values). \n",
    "\n",
    "The current dataset columns are user_name, user_location, user_description, user_verified, user_created, user_friends, user_followers, user_favourites, date, text, hashtag, source, and is_retweet.\n",
    "\n",
    "The columns we want to use for analysis are user_name, user_location, user_description, user_verified, date, text, hashtag, and source.\n",
    "\n",
    "Data: https://www.kaggle.com/mathurinache/metaverse-tweets/version/1\n",
    "GitHub: https://github.com/gabrielpreda/covid-19-tweets/blob/master/covid-19-tweets.ipynb "
   ]
  },
  {
   "cell_type": "markdown",
   "id": "55e85f65-e5b7-4cfe-96bf-6db9c15a2466",
   "metadata": {},
   "source": [
    "## Question "
   ]
  },
  {
   "cell_type": "markdown",
   "id": "a48f786f-8444-44ec-9432-dcebaaa8d57c",
   "metadata": {
    "tags": []
   },
   "source": [
    "## Possible Findings and Implications:"
   ]
  },
  {
   "cell_type": "markdown",
   "id": "e896c165-45e4-4629-9c43-5c3fa56215fb",
   "metadata": {},
   "source": [
    "At this stage, we will most likely begin by tackling the questions that we presented while considering how we can address some of the most complex ideas mentioned previously. This would also allow us to become more familiar with the dataset and its quirks as we proceed in our analyses. Eventually, it could be interesting to compare Metaverse tweet activity with general tweet activity, or other news data relating to the Metaverse coinciding with the time period we are studying. Potential implications of the dataset is that data collection started on Jan 2021, which doesn’t allow for a wide range of collection of tweets prior to the announcement of Facebook’s name change in Oct 2021. "
   ]
  }
 ],
 "metadata": {
  "kernelspec": {
   "display_name": "Python 3 (ipykernel)",
   "language": "python",
   "name": "python3"
  },
  "language_info": {
   "codemirror_mode": {
    "name": "ipython",
    "version": 3
   },
   "file_extension": ".py",
   "mimetype": "text/x-python",
   "name": "python",
   "nbconvert_exporter": "python",
   "pygments_lexer": "ipython3",
   "version": "3.8.12"
  }
 },
 "nbformat": 4,
 "nbformat_minor": 5
}
